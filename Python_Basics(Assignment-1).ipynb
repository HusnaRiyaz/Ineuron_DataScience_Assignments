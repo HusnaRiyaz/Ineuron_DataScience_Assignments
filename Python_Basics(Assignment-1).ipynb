{
  "nbformat": 4,
  "nbformat_minor": 0,
  "metadata": {
    "colab": {
      "provenance": [],
      "authorship_tag": "ABX9TyMctbeE6oCJuRUO81QHyeQ7",
      "include_colab_link": true
    },
    "kernelspec": {
      "name": "python3",
      "display_name": "Python 3"
    },
    "language_info": {
      "name": "python"
    }
  },
  "cells": [
    {
      "cell_type": "markdown",
      "metadata": {
        "id": "view-in-github",
        "colab_type": "text"
      },
      "source": [
        "<a href=\"https://colab.research.google.com/github/HusnaRiyaz/Ineuron_DataScience_Assignments/blob/main/Python_Basics(Assignment-1).ipynb\" target=\"_parent\"><img src=\"https://colab.research.google.com/assets/colab-badge.svg\" alt=\"Open In Colab\"/></a>"
      ]
    },
    {
      "cell_type": "markdown",
      "source": [
        "# **1. Write a Python program to reverse a string without using any built-in string reversal functions.**\n"
      ],
      "metadata": {
        "id": "eQ2Duy3ybLfv"
      }
    },
    {
      "cell_type": "code",
      "execution_count": null,
      "metadata": {
        "colab": {
          "base_uri": "https://localhost:8080/"
        },
        "id": "IMfRMmVVbERs",
        "outputId": "694549e7-aee2-429a-8e44-7a65455b5528"
      },
      "outputs": [
        {
          "output_type": "stream",
          "name": "stdout",
          "text": [
            "ansuH\n"
          ]
        }
      ],
      "source": [
        "a = 'Husna'\n",
        "print(a[::-1])"
      ]
    },
    {
      "cell_type": "markdown",
      "source": [
        "# **2. Implement a function to check if a given string is a palindrome.**\n",
        "TC:O(n), SC: (1) - approach 1\n",
        "TC:O(n), SC: (n) - approach 2"
      ],
      "metadata": {
        "id": "YmZgkY41cJ_R"
      }
    },
    {
      "cell_type": "code",
      "source": [
        "def check_palindrome(n):\n",
        "  return n == n[::-1]\n",
        "\n",
        "\n",
        "\n",
        "n = 'malayalam'\n",
        "ans = check_palindrome(n)\n",
        "if ans:\n",
        "  print('Yes')\n",
        "else:\n",
        "  print('No')\n"
      ],
      "metadata": {
        "colab": {
          "base_uri": "https://localhost:8080/"
        },
        "id": "FNlXoedqcLev",
        "outputId": "2f4b9778-14b3-4a12-b34d-c551098e2075"
      },
      "execution_count": null,
      "outputs": [
        {
          "output_type": "stream",
          "name": "stdout",
          "text": [
            "Yes\n"
          ]
        }
      ]
    },
    {
      "cell_type": "code",
      "source": [
        "def check_palindrome1(n):\n",
        "\n",
        "  a = ''.join(reversed(n))\n",
        "\n",
        "  if n == a:\n",
        "    return True\n",
        "  else:\n",
        "    return False\n",
        "\n",
        "n = 'malayalam'\n",
        "ans = check_palindrome(n)\n",
        "if ans:\n",
        "  print('Yes')\n",
        "else:\n",
        "  print('No')"
      ],
      "metadata": {
        "colab": {
          "base_uri": "https://localhost:8080/"
        },
        "id": "SOgYzObxeVBC",
        "outputId": "62bbe02c-0532-445d-8afc-eff1abb9a48e"
      },
      "execution_count": null,
      "outputs": [
        {
          "output_type": "stream",
          "name": "stdout",
          "text": [
            "Yes\n"
          ]
        }
      ]
    },
    {
      "cell_type": "markdown",
      "source": [
        "# **3. Write a program to find the largest element in a given list.**\n",
        "built-in functions : TC: O(n), SC: O(n)\n",
        "other: TC: O(n), SC: O(1)"
      ],
      "metadata": {
        "id": "G0IudrJFfmzJ"
      }
    },
    {
      "cell_type": "code",
      "source": [
        "l = [1,2,4,57,9,10]\n",
        "\n",
        "#print(max(l))\n",
        "#print(max(l, key=lambda value: int(value)) )\n",
        "#print(max(sorted(l)))\n",
        "l.sort()\n",
        "print(l[-1])"
      ],
      "metadata": {
        "colab": {
          "base_uri": "https://localhost:8080/"
        },
        "id": "Z3dXGmEhfluS",
        "outputId": "9607d0f0-2cbb-41ab-f138-c460d6441bfd"
      },
      "execution_count": 14,
      "outputs": [
        {
          "output_type": "stream",
          "name": "stdout",
          "text": [
            "57\n"
          ]
        }
      ]
    },
    {
      "cell_type": "code",
      "source": [
        "def largest_num(n):\n",
        "  maxi = n[0]\n",
        "\n",
        "  for i in n:\n",
        "    if i > maxi:\n",
        "      maxi = i\n",
        "  return maxi\n",
        "\n",
        "n = [1,2,4,57,9,10]\n",
        "ans = largest_num(n)\n",
        "print(ans)\n"
      ],
      "metadata": {
        "colab": {
          "base_uri": "https://localhost:8080/"
        },
        "id": "FaPW-AyafzGR",
        "outputId": "3d0a698f-a744-439f-a59c-68614b4604bf"
      },
      "execution_count": null,
      "outputs": [
        {
          "output_type": "stream",
          "name": "stdout",
          "text": [
            "57\n"
          ]
        }
      ]
    },
    {
      "cell_type": "markdown",
      "source": [
        "# **4. Implement a function to count the occurrence of each element in a list.**"
      ],
      "metadata": {
        "id": "sOvgid_Tk_K8"
      }
    },
    {
      "cell_type": "code",
      "source": [
        "n = [1,3,2,1,5,7,4,3,6,3,8,2]\n",
        "\n",
        "def count_ele(n):\n",
        "  d = {}\n",
        "  for i in n:\n",
        "    if i in d:\n",
        "      d[i] +=1\n",
        "    else:\n",
        "      d[i]=1\n",
        "  return d\n",
        "print(count_ele(n))\n",
        "\n",
        "\n"
      ],
      "metadata": {
        "colab": {
          "base_uri": "https://localhost:8080/"
        },
        "id": "ZHFyA2nRllPl",
        "outputId": "620bb0da-75f0-46b6-8e89-d7ac8a7398be"
      },
      "execution_count": null,
      "outputs": [
        {
          "output_type": "stream",
          "name": "stdout",
          "text": [
            "{1: 2, 3: 3, 2: 2, 5: 1, 7: 1, 4: 1, 6: 1, 8: 1}\n"
          ]
        }
      ]
    },
    {
      "cell_type": "code",
      "source": [
        "#dict comprehension\n",
        "lis = ['a', 'd', 'd', 'c', 'a', 'b', 'b', 'a', 'c', 'd', 'e']\n",
        "occurrence = {item: lis.count(item) for item in lis}\n",
        "print(occurrence.get('d'))"
      ],
      "metadata": {
        "colab": {
          "base_uri": "https://localhost:8080/"
        },
        "id": "VmldmoLsrBC2",
        "outputId": "bd7e7a96-629b-437a-c140-bd0278dd64c0"
      },
      "execution_count": null,
      "outputs": [
        {
          "output_type": "stream",
          "name": "stdout",
          "text": [
            "3\n"
          ]
        }
      ]
    },
    {
      "cell_type": "code",
      "source": [
        "#Using Pandas\n",
        "import pandas as pd\n",
        "\n",
        "# declaring the list\n",
        "l = [1,3,4,2,1,4,3,3,4,2,4]\n",
        "\n",
        "count = pd.Series(l).value_counts()\n",
        "print(\"Elements Count\")\n",
        "print(count)"
      ],
      "metadata": {
        "colab": {
          "base_uri": "https://localhost:8080/"
        },
        "id": "vnV_BoFunVEN",
        "outputId": "88b8897e-13b3-4599-beec-e7733c6524eb"
      },
      "execution_count": null,
      "outputs": [
        {
          "output_type": "stream",
          "name": "stdout",
          "text": [
            "Elements Count\n",
            "4    4\n",
            "3    3\n",
            "1    2\n",
            "2    2\n",
            "dtype: int64\n"
          ]
        }
      ]
    },
    {
      "cell_type": "markdown",
      "source": [
        "# **5. Write a Python program to find the second largest number in a list.**"
      ],
      "metadata": {
        "id": "yhAQc8vAratF"
      }
    },
    {
      "cell_type": "code",
      "source": [
        "l = [1,2,4,57,9,10] #TC: O(nlogn), SC: O(1)\n",
        "\n",
        "l.sort()\n",
        "print(l[-2])"
      ],
      "metadata": {
        "colab": {
          "base_uri": "https://localhost:8080/"
        },
        "id": "ohXGegtcrb8-",
        "outputId": "10688285-5080-46c3-e956-c2f7c3ddd6ab"
      },
      "execution_count": null,
      "outputs": [
        {
          "output_type": "stream",
          "name": "stdout",
          "text": [
            "10\n"
          ]
        }
      ]
    },
    {
      "cell_type": "code",
      "source": [
        "l = [1,2,4,57,9,10] #TC: O(n), SC: O(1)\n",
        "a = l.remove(max(l))\n",
        "print(max(l))"
      ],
      "metadata": {
        "id": "4GseEsJfrxY9",
        "colab": {
          "base_uri": "https://localhost:8080/"
        },
        "outputId": "29588897-f67c-4eca-b4f1-2981b637e508"
      },
      "execution_count": null,
      "outputs": [
        {
          "output_type": "stream",
          "name": "stdout",
          "text": [
            "10\n"
          ]
        }
      ]
    },
    {
      "cell_type": "code",
      "source": [
        "def sec_largest(arr): #TC: O(n), SC: O(1)\n",
        "  second_large = 0\n",
        "  largest = min(arr)\n",
        "\n",
        "  for i in range(len(arr)):\n",
        "    if arr[i]> largest:\n",
        "      second_large = largest\n",
        "      largest = arr[i]\n",
        "    else:\n",
        "      second_large = max(second_large, arr[i])\n",
        "  return second_large\n",
        "\n",
        "arr = [1,3,6,7,23,56,82,99]\n",
        "ans = sec_largest(arr)\n",
        "print(ans)"
      ],
      "metadata": {
        "colab": {
          "base_uri": "https://localhost:8080/"
        },
        "id": "UJj83a-OcJ_M",
        "outputId": "39055029-8f8c-46ab-ca6a-2ae6e57aa9b6"
      },
      "execution_count": null,
      "outputs": [
        {
          "output_type": "stream",
          "name": "stdout",
          "text": [
            "82\n"
          ]
        }
      ]
    },
    {
      "cell_type": "markdown",
      "source": [
        "# **6. Implement a function to remove duplicate elements from a list.**"
      ],
      "metadata": {
        "id": "CzSHizCaeULD"
      }
    },
    {
      "cell_type": "code",
      "source": [
        "l = [1,3,6,7,2,3,23,56,1,2,82,23,99]\n",
        "a = set(l)\n",
        "a"
      ],
      "metadata": {
        "colab": {
          "base_uri": "https://localhost:8080/"
        },
        "id": "f3XpUmTiezgM",
        "outputId": "3a7712cb-5e07-4bf4-8416-2e14cd13e8b6"
      },
      "execution_count": null,
      "outputs": [
        {
          "output_type": "execute_result",
          "data": {
            "text/plain": [
              "{1, 2, 3, 6, 7, 23, 56, 82, 99}"
            ]
          },
          "metadata": {},
          "execution_count": 5
        }
      ]
    },
    {
      "cell_type": "code",
      "source": [
        "l = [1,3,6,7,2,3,23,56,1,2,82,23,99]\n",
        "items = list(dict.fromkeys(l))\n",
        "print(items)"
      ],
      "metadata": {
        "colab": {
          "base_uri": "https://localhost:8080/"
        },
        "id": "aMUQVtQJe75z",
        "outputId": "4281d0da-004d-4458-8eb3-b3d210f2e58e"
      },
      "execution_count": null,
      "outputs": [
        {
          "output_type": "stream",
          "name": "stdout",
          "text": [
            "[1, 3, 6, 7, 2, 23, 56, 82, 99]\n"
          ]
        }
      ]
    },
    {
      "cell_type": "code",
      "source": [
        "from collections import Counter\n",
        "\n",
        "l = [1,3,6,7,2,3,23,56,1,2,82,23,99]\n",
        "remove_dup = Counter(l)\n",
        "#print(list(remove_dup.keys()))\n",
        "remove_dup.values()"
      ],
      "metadata": {
        "colab": {
          "base_uri": "https://localhost:8080/"
        },
        "id": "oKUUkipDeTjE",
        "outputId": "ee9fafc9-adf0-4bae-ea3c-2c8aad0b867b"
      },
      "execution_count": null,
      "outputs": [
        {
          "output_type": "execute_result",
          "data": {
            "text/plain": [
              "dict_values([2, 2, 1, 1, 2, 2, 1, 1, 1])"
            ]
          },
          "metadata": {},
          "execution_count": 4
        }
      ]
    },
    {
      "cell_type": "code",
      "source": [
        "# Python code to remove duplicate elements\n",
        "def Remove(duplicate):\n",
        "\tfinal_list = []\n",
        "\tfor num in duplicate:\n",
        "\t\tif num not in final_list:\n",
        "\t\t\tfinal_list.append(num)\n",
        "\treturn final_list\n",
        "\n",
        "\n",
        "duplicate = [2, 4, 10, 20, 5, 2, 20, 4]\n",
        "print(Remove(duplicate))\n"
      ],
      "metadata": {
        "colab": {
          "base_uri": "https://localhost:8080/"
        },
        "id": "BbuO7G1OjaQu",
        "outputId": "7292d116-4089-4c1f-a7c2-821205810aa5"
      },
      "execution_count": null,
      "outputs": [
        {
          "output_type": "stream",
          "name": "stdout",
          "text": [
            "[2, 4, 10, 20, 5]\n"
          ]
        }
      ]
    },
    {
      "cell_type": "markdown",
      "source": [
        "# **7. Write a program to calculate the factorial of a given number.**"
      ],
      "metadata": {
        "id": "WPQOiydvkLmG"
      }
    },
    {
      "cell_type": "code",
      "source": [
        "#recursion\n",
        "def factorial(x):\n",
        "  if x == 1 or 0:\n",
        "    return 1\n",
        "  else:\n",
        "    return x*factorial(x-1)\n",
        "\n",
        "x = int(input(\"Enter the number\"))\n",
        "\n",
        "ans = factorial(x)\n",
        "print(ans)"
      ],
      "metadata": {
        "colab": {
          "base_uri": "https://localhost:8080/"
        },
        "id": "GYJzoi28kNU1",
        "outputId": "446b8fc7-37f8-40bf-98ac-d8969396c3f1"
      },
      "execution_count": null,
      "outputs": [
        {
          "output_type": "stream",
          "name": "stdout",
          "text": [
            "Enter the number5\n",
            "120\n"
          ]
        }
      ]
    },
    {
      "cell_type": "code",
      "source": [
        "#using loop\n",
        "n = int(input(\"Enter the number: \"))\n",
        "fact =1\n",
        "if n==0 or n==1:\n",
        "  print(1)\n",
        "else:\n",
        "  for i in range(1, n+1):\n",
        "    fact = fact*i\n",
        "  print(fact)\n"
      ],
      "metadata": {
        "colab": {
          "base_uri": "https://localhost:8080/"
        },
        "id": "Ki6QUggyBavd",
        "outputId": "14b3614f-ccb3-4bb9-c118-d6ddf0e1113d"
      },
      "execution_count": null,
      "outputs": [
        {
          "output_type": "stream",
          "name": "stdout",
          "text": [
            "Enter the number: 5\n",
            "120\n"
          ]
        }
      ]
    },
    {
      "cell_type": "markdown",
      "source": [
        "# **8. Implement a function to check if a given number is prime.**"
      ],
      "metadata": {
        "id": "S3M37bcRCRkk"
      }
    },
    {
      "cell_type": "code",
      "source": [
        "n = int(input(\"Enter the number: \"))\n",
        "\n",
        "if n== 1 :\n",
        "  print(n,\"is not a prime number\")\n",
        "elif n>1 :\n",
        "    for i in range(2, n):\n",
        "      if (n%i) == 0:\n",
        "        print(n,\"is not a prime number\")\n",
        "        break\n",
        "    else:\n",
        "      print(n,\"is a prime number\")\n",
        "else:\n",
        "    print(n,\"is not a prime number\")"
      ],
      "metadata": {
        "colab": {
          "base_uri": "https://localhost:8080/"
        },
        "id": "qXOolHpQCS2c",
        "outputId": "7bf3a83e-6c94-4007-a10a-91ec85386743"
      },
      "execution_count": null,
      "outputs": [
        {
          "output_type": "stream",
          "name": "stdout",
          "text": [
            "Enter the number: 213\n",
            "213 is not a prime number\n"
          ]
        }
      ]
    },
    {
      "cell_type": "markdown",
      "source": [
        "# **9. Write a Python program to sort a list of integers in ascending order.**"
      ],
      "metadata": {
        "id": "6I7ap6TKyZKR"
      }
    },
    {
      "cell_type": "code",
      "source": [
        "l = [3,7,0,9,1,5,2,8,4,6]\n",
        "print(sorted(l))"
      ],
      "metadata": {
        "colab": {
          "base_uri": "https://localhost:8080/"
        },
        "id": "IT8AUUYiyYjC",
        "outputId": "36e5517e-7a20-4d45-c0a0-ea20dbe7f89e"
      },
      "execution_count": null,
      "outputs": [
        {
          "output_type": "stream",
          "name": "stdout",
          "text": [
            "[0, 1, 2, 3, 4, 5, 6, 7, 8, 9]\n"
          ]
        }
      ]
    },
    {
      "cell_type": "code",
      "source": [
        "l = [3,7,0,9,1,5,2,8,4,6]\n",
        "temp = 0\n",
        "print(\"Elements of original array: \")\n",
        "for a in range(0, len(l)):\n",
        " print(l[a], end = ' ')\n",
        "\n",
        "for i in range(0, len(l)):\n",
        "  for j in range(i+1, len(l)):\n",
        "    if (l[i]> l[j]):\n",
        "      temp = l[i]\n",
        "      l[i] = l[j]\n",
        "      l[j] = temp\n",
        "\n",
        "print()\n",
        "\n",
        "print(\"Elements of array sorted in ascending order: \")\n",
        "for i in range(0, len(l)):\n",
        "  print(l[i], end = ' ')\n",
        "\n"
      ],
      "metadata": {
        "colab": {
          "base_uri": "https://localhost:8080/"
        },
        "id": "Ft3mFp9WzQEC",
        "outputId": "be3a1872-6e33-4f93-e225-aa70689b2fa0"
      },
      "execution_count": null,
      "outputs": [
        {
          "output_type": "stream",
          "name": "stdout",
          "text": [
            "Elements of original array: \n",
            "3 7 0 9 1 5 2 8 4 6 \n",
            "Elements of array sorted in ascending order: \n",
            "0 1 2 3 4 5 6 7 8 9 "
          ]
        }
      ]
    },
    {
      "cell_type": "code",
      "source": [
        "l = [3,7,0,9,1,5,2,8,4,6]\n",
        "temp = 0\n",
        "print(\"Elements of original array: \")\n",
        "for a in range(0, len(l)):\n",
        " print(l[a], end = ' ')\n",
        "\n",
        "for i in range(0, len(l)):\n",
        "  for j in range(i+1, len(l)):\n",
        "    if (l[i]< l[j]):\n",
        "      temp = l[i]\n",
        "      l[i] = l[j]\n",
        "      l[j] = temp\n",
        "\n",
        "print()\n",
        "\n",
        "print(\"Elements of array sorted in descending order: \")\n",
        "for i in range(0, len(l)):\n",
        "  print(l[i], end = ' ')\n",
        "\n"
      ],
      "metadata": {
        "colab": {
          "base_uri": "https://localhost:8080/"
        },
        "id": "2Vg7AhIu4f1K",
        "outputId": "cb0f3568-1503-4ef6-e80b-a977d1969a22"
      },
      "execution_count": null,
      "outputs": [
        {
          "output_type": "stream",
          "name": "stdout",
          "text": [
            "Elements of original array: \n",
            "3 7 0 9 1 5 2 8 4 6 \n",
            "Elements of array sorted in descending order: \n",
            "9 8 7 6 5 4 3 2 1 0 "
          ]
        }
      ]
    },
    {
      "cell_type": "markdown",
      "source": [
        "# **10. Implement a function to find the sum of all numbers in a list.**"
      ],
      "metadata": {
        "id": "yX2uABGo5ZBq"
      }
    },
    {
      "cell_type": "code",
      "source": [
        "l = [3,6,2,0,5]\n",
        "sum = 0\n",
        "for i in range(0,len(l)):\n",
        "  sum +=l[i]\n",
        "\n",
        "print(sum)\n"
      ],
      "metadata": {
        "colab": {
          "base_uri": "https://localhost:8080/"
        },
        "id": "nUuRbJEB5aRU",
        "outputId": "8e451e64-5ecc-448d-a6f7-4808e9e623aa"
      },
      "execution_count": null,
      "outputs": [
        {
          "output_type": "stream",
          "name": "stdout",
          "text": [
            "16\n"
          ]
        }
      ]
    },
    {
      "cell_type": "code",
      "source": [
        "def sum_num(l):\n",
        "  sum = 0\n",
        "  for i in range(0, len(l)):\n",
        "    sum +=  l[i]\n",
        "  return sum\n",
        "\n",
        "l = [3,6,2,0,5]\n",
        "ans = sum_num(l)\n",
        "print(ans)"
      ],
      "metadata": {
        "colab": {
          "base_uri": "https://localhost:8080/"
        },
        "id": "ZkLz_NqL6A7a",
        "outputId": "ab109298-b51c-4588-98fc-9b4df6545139"
      },
      "execution_count": null,
      "outputs": [
        {
          "output_type": "stream",
          "name": "stdout",
          "text": [
            "16\n"
          ]
        }
      ]
    },
    {
      "cell_type": "markdown",
      "source": [
        "# **11. Write a program to find the common elements between two lists.**"
      ],
      "metadata": {
        "id": "BAoYxwIb6lyr"
      }
    },
    {
      "cell_type": "code",
      "source": [
        "l1 = [2,3,5,0,1,7,11,45]\n",
        "l2 = [9,1,4,6,3,5,2,0,11]\n",
        "l = []\n",
        "for i in range(len(l1)):\n",
        "  for j in range(len(l2)):\n",
        "    if l1[i] == l2[j]:\n",
        "      l.append(l1[i])\n",
        "print(sorted(l), end = \" \")"
      ],
      "metadata": {
        "colab": {
          "base_uri": "https://localhost:8080/"
        },
        "id": "aBPmVzfL6m9D",
        "outputId": "58e7ef6c-151b-4219-dd25-ea7cd76e6db4"
      },
      "execution_count": null,
      "outputs": [
        {
          "output_type": "stream",
          "name": "stdout",
          "text": [
            "[0, 1, 2, 3, 5, 11] "
          ]
        }
      ]
    },
    {
      "cell_type": "code",
      "source": [
        "def common_member(a, b):\n",
        "    a_set = set(a)\n",
        "    b_set = set(b)\n",
        "\n",
        "    if (a_set & b_set):\n",
        "        print(a_set & b_set)\n",
        "    else:\n",
        "        print(\"No common elements\")\n",
        "\n",
        "\n",
        "a = [1, 2, 3, 4, 5]\n",
        "b = [5, 6, 7, 8, 9]\n",
        "common_member(a, b)"
      ],
      "metadata": {
        "colab": {
          "base_uri": "https://localhost:8080/"
        },
        "id": "XfP62Bzq9udj",
        "outputId": "d2009b64-d4b4-42e5-c735-0afe9993cdd3"
      },
      "execution_count": null,
      "outputs": [
        {
          "output_type": "stream",
          "name": "stdout",
          "text": [
            "{5}\n"
          ]
        }
      ]
    },
    {
      "cell_type": "markdown",
      "source": [
        "# **12. Implement a function to check if a given string is an anagram of another string.**"
      ],
      "metadata": {
        "id": "gHbv1uVf9hLz"
      }
    },
    {
      "cell_type": "code",
      "source": [
        "str1 = input('Enter the first string:')\n",
        "str2 = input('Enter the second string:')\n",
        "if sorted(str1) == sorted(str2):\n",
        "  print(\"Yes, the two string are anagram of each other\")\n",
        "else:\n",
        "  print(\"No, it's not an anagram\")"
      ],
      "metadata": {
        "colab": {
          "base_uri": "https://localhost:8080/"
        },
        "id": "lDkmP5kc9iLr",
        "outputId": "e2988167-1c05-4819-9000-73834c51fdcb"
      },
      "execution_count": 20,
      "outputs": [
        {
          "output_type": "stream",
          "name": "stdout",
          "text": [
            "Enter the first string: husna\n",
            "Enter the second string: usnahar\n",
            "No, it's not an anagram\n"
          ]
        }
      ]
    },
    {
      "cell_type": "code",
      "source": [
        "from collections import Counter\n",
        "\n",
        "def str_anagram(str1,str2):\n",
        "  counter1 = Counter(str1)\n",
        "  counter2 = Counter(str2)\n",
        "\n",
        "  return counter1 == counter2\n",
        "\n",
        "str1 = input(\"Enter the string1:\")\n",
        "str2 = input(\"Enter the string2:\")\n",
        "\n",
        "if str_anagram(str1,str2):\n",
        "  print(\"The strings are anagrams\")\n",
        "else:\n",
        "  print(\"The strings are not anagrams\")"
      ],
      "metadata": {
        "id": "YB-vGVYAAiAU",
        "colab": {
          "base_uri": "https://localhost:8080/"
        },
        "outputId": "95944b31-bca9-453e-d8bd-9e52e032e9a1"
      },
      "execution_count": 17,
      "outputs": [
        {
          "output_type": "stream",
          "name": "stdout",
          "text": [
            "Enter the string1: husna\n",
            "Enter the string2: anshu\n",
            "The strings are anagrams\n"
          ]
        }
      ]
    },
    {
      "cell_type": "markdown",
      "source": [
        "# **13. Write a Python program to generate all permutations of a given string.**"
      ],
      "metadata": {
        "id": "4QnLuiZxDkil"
      }
    },
    {
      "cell_type": "code",
      "source": [
        "\n",
        "from itertools import permutations\n",
        "\n",
        "def allPermutations(str):\n",
        "\n",
        "\t# Get all permutations of string 'ABC'\n",
        "\tpermList = permutations(str)\n",
        "\n",
        "\t# print all permutations\n",
        "\tfor perm in list(permList):\n",
        "\t\tprint(''.join(perm))\n",
        "\n",
        "\n",
        "if __name__ == \"__main__\":\n",
        "  str = 'ABC'\n",
        "  allPermutations(str)\n",
        "\n"
      ],
      "metadata": {
        "colab": {
          "base_uri": "https://localhost:8080/"
        },
        "id": "vUDRgdTHDj4H",
        "outputId": "7434165f-84d7-4a57-90ed-4abdc2c09e31"
      },
      "execution_count": 15,
      "outputs": [
        {
          "output_type": "stream",
          "name": "stdout",
          "text": [
            "ABC\n",
            "ACB\n",
            "BAC\n",
            "BCA\n",
            "CAB\n",
            "CBA\n"
          ]
        }
      ]
    },
    {
      "cell_type": "code",
      "source": [
        "from itertools import permutations\n",
        "import string\n",
        "\n",
        "s = \"ICE\"\n",
        "a = string.ascii_letters\n",
        "p = permutations(s)\n",
        "\n",
        "# Create a dictionary\n",
        "d = []\n",
        "for i in list(p):\n",
        "\n",
        "\t# Print only if not in dictionary\n",
        "\tif (i not in d):\n",
        "\t\td.append(i)\n",
        "\t\tprint(''.join(i))\n"
      ],
      "metadata": {
        "colab": {
          "base_uri": "https://localhost:8080/"
        },
        "id": "kFLnvancEiW0",
        "outputId": "efdbb689-4d51-4c63-fe47-e2771c3e2658"
      },
      "execution_count": null,
      "outputs": [
        {
          "output_type": "stream",
          "name": "stdout",
          "text": [
            "ICE\n",
            "IEC\n",
            "CIE\n",
            "CEI\n",
            "EIC\n",
            "ECI\n"
          ]
        }
      ]
    },
    {
      "cell_type": "markdown",
      "source": [
        "# **14. Implement a function to calculate the Fibonacci sequence up to a given number of terms.**"
      ],
      "metadata": {
        "id": "n5SCyo50EyeM"
      }
    },
    {
      "cell_type": "code",
      "source": [
        "def fibonacci(n):\n",
        "  if n == 1 or n == 2:\n",
        "    return 1\n",
        "  elif n == 0:\n",
        "    return 0\n",
        "  return fibonacci(n-1) + fibonacci(n-2)\n",
        "\n",
        "\n",
        "  #return (n-1)*(n-2)\n",
        "\n",
        "n = int(input(\"Enter the number:\"))\n",
        "ans= fibonacci(n)\n",
        "print(ans)"
      ],
      "metadata": {
        "id": "ifcn6sitEzyc",
        "colab": {
          "base_uri": "https://localhost:8080/"
        },
        "outputId": "e9865918-7882-4d12-bbb5-74b74a746096"
      },
      "execution_count": null,
      "outputs": [
        {
          "output_type": "stream",
          "name": "stdout",
          "text": [
            "Enter the number:2\n",
            "1\n"
          ]
        }
      ]
    },
    {
      "cell_type": "code",
      "source": [
        "\n",
        "nterms = int(input(\"How many terms? \"))\n",
        "\n",
        "# first two terms\n",
        "n1, n2 = 0, 1\n",
        "count = 0\n",
        "\n",
        "# check if the number of terms is valid\n",
        "if nterms <= 0:\n",
        "   print(\"Please enter a positive integer\")\n",
        "# if there is only one term, return n1\n",
        "elif nterms == 1:\n",
        "   print(\"Fibonacci sequence upto\",nterms,\":\")\n",
        "   print(n1)\n",
        "# generate fibonacci sequence\n",
        "else:\n",
        "   print(\"Fibonacci sequence:\")\n",
        "   while count < nterms:\n",
        "       print(n1)\n",
        "       nth = n1 + n2\n",
        "       # update values\n",
        "       n1 = n2\n",
        "       n2 = nth\n",
        "       count += 1"
      ],
      "metadata": {
        "id": "RGMPSiOYNdY_"
      },
      "execution_count": null,
      "outputs": []
    },
    {
      "cell_type": "markdown",
      "source": [
        "# **15. Write a program to find the median of a list of numbers.**"
      ],
      "metadata": {
        "id": "5yI61gjEE0us"
      }
    },
    {
      "cell_type": "code",
      "source": [
        "import statistics\n",
        "\n",
        "l = [3,2,5,1,6,8,4]\n",
        "#l.sort()\n",
        "#l = [4, 5, 8, 9, 10, 17]\n",
        "ans = statistics.median(l)\n",
        "print(ans)"
      ],
      "metadata": {
        "colab": {
          "base_uri": "https://localhost:8080/"
        },
        "id": "yqGTUNz0Lw_Q",
        "outputId": "1ed43466-4228-4b79-ed26-4838d3ef9066"
      },
      "execution_count": null,
      "outputs": [
        {
          "output_type": "stream",
          "name": "stdout",
          "text": [
            "4\n"
          ]
        }
      ]
    },
    {
      "cell_type": "code",
      "source": [
        "#l = [4, 5, 8, 9, 10, 17]\n",
        "l = [3,2,5,1,6,8]\n",
        "l.sort()\n",
        "mid = len(l)//2\n",
        "ans = (l[mid] + l[~mid])/2\n",
        "print(ans)\n"
      ],
      "metadata": {
        "colab": {
          "base_uri": "https://localhost:8080/"
        },
        "id": "5pm2Xy7CMuFB",
        "outputId": "efb37906-d99a-468c-85f7-b74983b925e6"
      },
      "execution_count": null,
      "outputs": [
        {
          "output_type": "stream",
          "name": "stdout",
          "text": [
            "4.0\n"
          ]
        }
      ]
    },
    {
      "cell_type": "markdown",
      "source": [
        "# **16. Implement a function to check if a given list is sorted in non-decreasing order.**"
      ],
      "metadata": {
        "id": "BXKRNKg7SUbT"
      }
    },
    {
      "cell_type": "code",
      "source": [
        "l = [2,4,1,6,8,9,5]\n",
        "if (l == sorted(l)):\n",
        "  print(\"The given list is sorted\")\n",
        "else:\n",
        "  print(\"The given list is non-sorted\")"
      ],
      "metadata": {
        "colab": {
          "base_uri": "https://localhost:8080/"
        },
        "id": "Gk357hfBvlm8",
        "outputId": "faca7fdd-d078-49d0-e859-26308566f4a3"
      },
      "execution_count": null,
      "outputs": [
        {
          "output_type": "stream",
          "name": "stdout",
          "text": [
            "The given list is non-sorted\n"
          ]
        }
      ]
    },
    {
      "cell_type": "code",
      "source": [
        "#def list_sort(l):\n",
        "l = [2,4,1,6,8,9,5]\n",
        "flag = 0\n",
        "if(all(l[i] <= l[i + 1] for i in range(len(l)-1))):\n",
        "      flag = 1\n",
        "\n",
        "if (flag):\n",
        "    print(\"The list is sorted\")\n",
        "else:\n",
        "    print(\"The list is non-sorted\")\n"
      ],
      "metadata": {
        "colab": {
          "base_uri": "https://localhost:8080/"
        },
        "id": "Q1j8OET7wc2m",
        "outputId": "6292f020-3f60-46f2-903c-d941f3389add"
      },
      "execution_count": null,
      "outputs": [
        {
          "output_type": "stream",
          "name": "stdout",
          "text": [
            "The list is non-sorted\n"
          ]
        }
      ]
    },
    {
      "cell_type": "markdown",
      "source": [
        "# **17. Write a Python program to find the intersection of two lists.**"
      ],
      "metadata": {
        "id": "Ra5tV3GcSU8y"
      }
    },
    {
      "cell_type": "code",
      "source": [
        "l1 = [2,4,5,1,7,9]\n",
        "l2 = [5,0,3,1]\n",
        "l = []\n",
        "for i in range(len(l1)):\n",
        "  for j in range(len(l2)):\n",
        "    if l1[i]==l2[j]:\n",
        "      l.append(l1[i])\n",
        "print(l)\n"
      ],
      "metadata": {
        "colab": {
          "base_uri": "https://localhost:8080/"
        },
        "id": "vKnC7ARnSVH_",
        "outputId": "e088c45d-aef0-46e3-bc68-b19a4d14ce62"
      },
      "execution_count": null,
      "outputs": [
        {
          "output_type": "stream",
          "name": "stdout",
          "text": [
            "[5, 1]\n"
          ]
        }
      ]
    },
    {
      "cell_type": "code",
      "source": [
        "# Python program to illustrate the intersection\n",
        "# of two lists using set() and intersection()\n",
        "def Intersection(lst1, lst2):\n",
        "\treturn set(lst1).intersection(lst2)\n",
        "\n",
        "\n",
        "lst1 = [ 4, 9, 1, 17, 11, 26, 28, 28, 26, 66, 91]\n",
        "lst2 = [9, 9, 74, 21, 45, 11, 63]\n",
        "print(Intersection(lst1, lst2))\n"
      ],
      "metadata": {
        "colab": {
          "base_uri": "https://localhost:8080/"
        },
        "id": "D7jxRnxx2eu5",
        "outputId": "4877b9a9-624d-42c3-ea29-1e420fe275b9"
      },
      "execution_count": null,
      "outputs": [
        {
          "output_type": "stream",
          "name": "stdout",
          "text": [
            "{9, 11}\n"
          ]
        }
      ]
    },
    {
      "cell_type": "code",
      "source": [
        "# Python program to illustrate the intersection\n",
        "# of two lists\n",
        "def intersection(lst1, lst2):\n",
        "\n",
        "\t# Use of hybrid method\n",
        "\ttemp = set(lst2)\n",
        "\tlst3 = [value for value in lst1 if value in temp]\n",
        "\treturn lst3\n",
        "\n",
        "# Driver Code\n",
        "lst1 = [9, 9, 74, 21, 45, 11, 63]\n",
        "lst2 = [4, 9, 1, 17, 11, 26, 28, 28, 26, 66, 91]\n",
        "print(intersection(lst1, lst2))\n"
      ],
      "metadata": {
        "colab": {
          "base_uri": "https://localhost:8080/"
        },
        "id": "PiS34Nx53ZNV",
        "outputId": "ed672f24-e5bf-4225-f836-702da0b4026b"
      },
      "execution_count": null,
      "outputs": [
        {
          "output_type": "stream",
          "name": "stdout",
          "text": [
            "[9, 9, 11]\n"
          ]
        }
      ]
    },
    {
      "cell_type": "markdown",
      "source": [
        "# **18. Implement a function to find the maximum subarray sum in a given list.**"
      ],
      "metadata": {
        "id": "MqyK2cJRSVbj"
      }
    },
    {
      "cell_type": "code",
      "source": [
        "def find(arr, l):\n",
        "    max_sum = -1\n",
        "    ans = []\n",
        "    for i in range(l):\n",
        "        for j in range(i, l):\n",
        "            a = sum(array[i:j + 1])\n",
        "            if a > max_sum:\n",
        "                max_sum = a\n",
        "                ans = array[i:j + 1]\n",
        "\n",
        "    print(\"Sub array which will give maximum sum\", ans)\n",
        "    print(\"Maximum sum = \", max_sum)\n",
        "\n",
        "\n",
        "array = [-1, 8, 1, -7, -1, 5, 1, -3]\n",
        "#array = [-2, -3, 4, -1, -2, 5, -3]\n",
        "print(\"Array =\", array)\n",
        "find(array, len(array))"
      ],
      "metadata": {
        "colab": {
          "base_uri": "https://localhost:8080/"
        },
        "id": "14ltFXVF4zRS",
        "outputId": "0120f276-0246-4f00-b43d-1ceac484c917"
      },
      "execution_count": null,
      "outputs": [
        {
          "output_type": "stream",
          "name": "stdout",
          "text": [
            "Array = [-1, 8, 1, -7, -1, 5, 1, -3]\n",
            "Sub array which will give maximum sum [8, 1]\n",
            "Maximum sum =  9\n"
          ]
        }
      ]
    },
    {
      "cell_type": "markdown",
      "source": [
        "# **19. Write a program to remove all vowels from a given string.**"
      ],
      "metadata": {
        "id": "a9fKApMbSV4p"
      }
    },
    {
      "cell_type": "code",
      "source": [
        "l = \"husna\"\n",
        "new_l = []\n",
        "for i in range(len(l)):\n",
        "  if l[i] !='a' and l[i] !='e' and l[i] !='i' and l[i] !='o' and l[i] !='u':\n",
        "    new_l.append(l[i])\n",
        "print(new_l)\n",
        "\n"
      ],
      "metadata": {
        "colab": {
          "base_uri": "https://localhost:8080/"
        },
        "id": "oLZqLju_SWBh",
        "outputId": "bc0af6a1-9937-4c30-c789-ccb0bced8a76"
      },
      "execution_count": null,
      "outputs": [
        {
          "output_type": "stream",
          "name": "stdout",
          "text": [
            "['h', 's', 'n']\n"
          ]
        }
      ]
    },
    {
      "cell_type": "code",
      "source": [
        "# Python program to remove vowels from a string\n",
        "# Function to remove vowels\n",
        "def rem_vowel(string):\n",
        "\tvowels = ['a','e','i','o','u']\n",
        "\tresult = [letter for letter in string if letter.lower() not in vowels]\n",
        "\tresult = ''.join(result)\n",
        "\tprint(result)\n",
        "\n",
        "# Driver program\n",
        "string = \"Big Data is fascinating and fun\"\n",
        "rem_vowel(string)\n",
        "\n"
      ],
      "metadata": {
        "colab": {
          "base_uri": "https://localhost:8080/"
        },
        "id": "hgWl2p-uD-5Q",
        "outputId": "67a9eac4-38f9-47f0-eccb-c342e3d6f0f6"
      },
      "execution_count": 21,
      "outputs": [
        {
          "output_type": "stream",
          "name": "stdout",
          "text": [
            "Bg Dt s fscntng nd fn\n"
          ]
        }
      ]
    },
    {
      "cell_type": "code",
      "source": [
        "# Python program to remove vowels from a string\n",
        "# Function to remove vowels\n",
        "\n",
        "# import the module for regular expression (re)\n",
        "import re\n",
        "def rem_vowel(string):\n",
        "\treturn (re.sub(\"[aeiouAEIOU]\",\"\",string))\n",
        "\n",
        "# Driver program\n",
        "string = \"Big Data is fascinating and fun\"\n",
        "print(rem_vowel(string))\n"
      ],
      "metadata": {
        "colab": {
          "base_uri": "https://localhost:8080/"
        },
        "id": "7jL_Vps_EFko",
        "outputId": "3724ba55-c334-49d3-a35f-0500424a18e2"
      },
      "execution_count": 22,
      "outputs": [
        {
          "output_type": "stream",
          "name": "stdout",
          "text": [
            "Bg Dt s fscntng nd fn\n"
          ]
        }
      ]
    },
    {
      "cell_type": "markdown",
      "source": [
        "# **20. Implement a function to reverse the order of words in a given sentence.**"
      ],
      "metadata": {
        "id": "TgVNvPiOchAS"
      }
    },
    {
      "cell_type": "code",
      "source": [
        "# Function to reverse words of string\n",
        "\n",
        "def rev_sentence(sentence):\n",
        "\n",
        "\t# first split the string into words\n",
        "\twords = sentence.split(' ')\n",
        "\n",
        "\t# then reverse the split string list and join using space\n",
        "\treverse_sentence = ' '.join(reversed(words))\n",
        "\n",
        "\t# finally return the joined string\n",
        "\treturn reverse_sentence\n",
        "\n",
        "if __name__ == \"__main__\":\n",
        "\tinput = 'Big Data is fascinating and fun'\n",
        "\tprint (rev_sentence(input))\n"
      ],
      "metadata": {
        "colab": {
          "base_uri": "https://localhost:8080/"
        },
        "id": "8e1b-bxWDC9v",
        "outputId": "41749334-6585-47c2-d3f4-90b71242600f"
      },
      "execution_count": 23,
      "outputs": [
        {
          "output_type": "stream",
          "name": "stdout",
          "text": [
            "fun and fascinating is Data Big\n"
          ]
        }
      ]
    },
    {
      "cell_type": "code",
      "source": [
        "# initializing string\n",
        "string = \"Big Data is fascinating and fun\"\n",
        "\n",
        "# creating an empty stack\n",
        "stack = []\n",
        "\n",
        "# pushing words onto the stack\n",
        "for word in string.split():\n",
        "\tstack.append(word)\n",
        "\n",
        "# creating an empty list to store the reversed words\n",
        "reversed_words = []\n",
        "\n",
        "# popping words off the stack and appending them to the list\n",
        "while stack:\n",
        "\treversed_words.append(stack.pop())\n",
        "\n",
        "# joining the reversed words with a space\n",
        "reversed_string = \" \".join(reversed_words)\n",
        "\n",
        "# printing the reversed string\n",
        "print(reversed_string)\n",
        "\n",
        "\n"
      ],
      "metadata": {
        "colab": {
          "base_uri": "https://localhost:8080/"
        },
        "id": "65QEnzTZDuWJ",
        "outputId": "365aaba9-7418-4d0c-ef5c-1beb4cc34d9f"
      },
      "execution_count": 24,
      "outputs": [
        {
          "output_type": "stream",
          "name": "stdout",
          "text": [
            "fun and fascinating is Data Big\n"
          ]
        }
      ]
    },
    {
      "cell_type": "markdown",
      "source": [
        "# **21. Write a Python program to check if two strings are anagrams of each other.**"
      ],
      "metadata": {
        "id": "gqLuHF8ochcq"
      }
    },
    {
      "cell_type": "code",
      "source": [
        "# function to check if two strings are #TC:O(nlogn), SC: O(1)\n",
        "# anagram or not\n",
        "def check(s1, s2):\n",
        "\n",
        "\t# the sorted strings are checked\n",
        "\tif(sorted(s1)== sorted(s2)):\n",
        "\t\tprint(\"The strings are anagrams.\")\n",
        "\telse:\n",
        "\t\tprint(\"The strings aren't anagrams.\")\n",
        "\n",
        "# driver code\n",
        "s1 =\"listen\"\n",
        "s2 =\"silent\"\n",
        "check(s1, s2)"
      ],
      "metadata": {
        "colab": {
          "base_uri": "https://localhost:8080/"
        },
        "id": "26SF5Aedchk6",
        "outputId": "36d7ba1d-e990-4e90-a1e7-ee55619e65a9"
      },
      "execution_count": null,
      "outputs": [
        {
          "output_type": "stream",
          "name": "stdout",
          "text": [
            "The strings are anagrams.\n"
          ]
        }
      ]
    },
    {
      "cell_type": "code",
      "source": [
        "# Python3 program for the above approach #TC:O(n), SC: O(1)\n",
        "from collections import Counter\n",
        "\n",
        "# function to check if two strings are\n",
        "# anagram or not\n",
        "def check(s1, s2):\n",
        "\n",
        "\t# implementing counter function\n",
        "\tif(Counter(s1) == Counter(s2)):\n",
        "\t\tprint(\"The strings are anagrams.\")\n",
        "\telse:\n",
        "\t\tprint(\"The strings aren't anagrams.\")\n",
        "\n",
        "\n",
        "# driver code\n",
        "s1 = \"listen\"\n",
        "s2 = \"silent\"\n",
        "check(s1, s2)\n"
      ],
      "metadata": {
        "colab": {
          "base_uri": "https://localhost:8080/"
        },
        "id": "7CXicPu55aYg",
        "outputId": "f421d5c0-6494-4dfa-8622-bb6008c30fd2"
      },
      "execution_count": null,
      "outputs": [
        {
          "output_type": "stream",
          "name": "stdout",
          "text": [
            "The strings are anagrams.\n"
          ]
        }
      ]
    },
    {
      "cell_type": "markdown",
      "source": [
        "# **22. Implement a function to find the first non-repeating character in a string.**"
      ],
      "metadata": {
        "id": "Cnn5DOydchsx"
      }
    },
    {
      "cell_type": "code",
      "source": [
        "# Python implementation #TC:O(n), SC:O(265)\n",
        "from collections import Counter\n",
        "\n",
        "# Function which repeats\n",
        "# first Nonrepeating character\n",
        "\n",
        "\n",
        "def printNonrepeated(string):\n",
        "\n",
        "\t# Calculating frequencies\n",
        "\t# using Counter function\n",
        "\tfreq = Counter(string)\n",
        "\n",
        "\t# Traverse the string\n",
        "\tfor i in string:\n",
        "\t\tif(freq[i] == 1):\n",
        "\t\t\tprint(\"First non-repeating character is \" + i)\n",
        "\t\t\tbreak\n",
        "\n",
        "\n",
        "# Driver code\n",
        "string = \"Big Data is fascinating and fun\"\n",
        "\n",
        "# passing string to printNonrepeated function\n",
        "printNonrepeated(string)\n",
        "\n",
        "\n"
      ],
      "metadata": {
        "id": "LlzNAnBkch2i",
        "colab": {
          "base_uri": "https://localhost:8080/"
        },
        "outputId": "d22e92da-f8a1-45d3-a75f-d22f82f9bd0a"
      },
      "execution_count": 25,
      "outputs": [
        {
          "output_type": "stream",
          "name": "stdout",
          "text": [
            "First non-repeating character is B\n"
          ]
        }
      ]
    },
    {
      "cell_type": "code",
      "source": [
        "# python3 implementation #TC:O(n^2), SC:O(1)\n",
        "\n",
        "\n",
        "def FirstNonRepeat(s):\n",
        "\n",
        "\tfor i in s:\n",
        "\n",
        "\t\tif (s.find(i, (s.find(i)+1))) == -1:\n",
        "\n",
        "\t\t\tprint(\"First non-repeating character is\", i)\n",
        "\n",
        "\t\t\tbreak\n",
        "\n",
        "\treturn\n",
        "\n",
        "# __main__\n",
        "\n",
        "\n",
        "s = 'Big Data is fascinating and fun'\n",
        "\n",
        "FirstNonRepeat(s)\n"
      ],
      "metadata": {
        "colab": {
          "base_uri": "https://localhost:8080/"
        },
        "id": "v4AyEiASGGd6",
        "outputId": "cd6925af-b4f1-4988-9f28-0dcc2d67bd01"
      },
      "execution_count": 26,
      "outputs": [
        {
          "output_type": "stream",
          "name": "stdout",
          "text": [
            "First non-repeating character is B\n"
          ]
        }
      ]
    },
    {
      "cell_type": "code",
      "source": [
        "# this function return the index of first non-repeating # TC:O(n),  SC: O(1)\n",
        "# character if found, or else it returns -1\n",
        "import sys\n",
        "\n",
        "\n",
        "def firstNonRepeating(Str):\n",
        "\tfi = [-1 for i in range(256)]\n",
        "\n",
        "\t# sets all repeating characters to -2 and non-repeating characters\n",
        "\t# contain the index where they occur\n",
        "\tfor i in range(len(Str)):\n",
        "\n",
        "\t\tif(fi[ord(Str[i])] == -1):\n",
        "\t\t\tfi[ord(Str[i])] = i\n",
        "\t\telse:\n",
        "\t\t\tfi[ord(Str[i])] = -2\n",
        "\n",
        "\tres = sys.maxsize\n",
        "\n",
        "\tfor i in range(256):\n",
        "\n",
        "\t\t# If this character is not -1 or -2 then it\n",
        "\t\t# means that this character occurred only once\n",
        "\t\t# so find the min index of all characters that\n",
        "\t\t# occur only once, that's our first index\n",
        "\t\tif(fi[i] >= 0):\n",
        "\t\t\tres = min(res, fi[i])\n",
        "\n",
        "\t# if res remains INT_MAX, it means there are no\n",
        "\t# characters that repeat only once or the string is empty\n",
        "\tif(res == sys.maxsize):\n",
        "\t\treturn -1\n",
        "\telse:\n",
        "\t\treturn res\n",
        "\n",
        "\n",
        "Str = \"Big Data is fascinating and fun\"\n",
        "firstIndex = firstNonRepeating(Str)\n",
        "\n",
        "if (firstIndex == -1):\n",
        "\tprint(\"Either all characters are repeating or string is empty\")\n",
        "else:\n",
        "\tprint(\"First non-repeating character is \" + (Str[firstIndex]))\n",
        "\n"
      ],
      "metadata": {
        "colab": {
          "base_uri": "https://localhost:8080/"
        },
        "id": "GjKvgto5HZ97",
        "outputId": "29133b6c-4084-4401-dd4f-ab0fc5148eed"
      },
      "execution_count": 28,
      "outputs": [
        {
          "output_type": "stream",
          "name": "stdout",
          "text": [
            "First non-repeating character is B\n"
          ]
        }
      ]
    },
    {
      "cell_type": "markdown",
      "source": [
        "# **23. Write a program to find the prime factors of a given number.**"
      ],
      "metadata": {
        "id": "wBotydcwch-h"
      }
    },
    {
      "cell_type": "code",
      "source": [
        "n= int(input(\"Enter an integer:\"))\n",
        "print(\"Factors are:\")\n",
        "i=1\n",
        "while(i<=n):\n",
        "    k=0\n",
        "    if(n%i==0):\n",
        "        j=1\n",
        "        while(j<=i):\n",
        "            if(i%j==0):\n",
        "                k=k+1\n",
        "            j=j+1\n",
        "        if(k==2):\n",
        "            print(i)\n",
        "    i=i+1"
      ],
      "metadata": {
        "id": "PyXwNq-RciGa",
        "colab": {
          "base_uri": "https://localhost:8080/"
        },
        "outputId": "96375afe-e44e-4059-e27f-ab21bf74721f"
      },
      "execution_count": null,
      "outputs": [
        {
          "output_type": "stream",
          "name": "stdout",
          "text": [
            "Enter an integer:407\n",
            "Factors are:\n",
            "11\n",
            "37\n"
          ]
        }
      ]
    },
    {
      "cell_type": "code",
      "source": [
        "def Prime_Factorial(n):\n",
        "    if n < 4:\n",
        "        return n\n",
        "    arr = []\n",
        "    while n > 1:\n",
        "        for i in range(2, int(2+n//2)):\n",
        "            if i == (1 + n // 2):\n",
        "                arr.append(n)\n",
        "                n = n // n\n",
        "            if n % i == 0:\n",
        "                arr.append(i)\n",
        "                n = n // i\n",
        "                break\n",
        "    return arr\n",
        "\n",
        "\n",
        "n= int(input(\"Enter an integer:\"))\n",
        "print(Prime_Factorial(n))"
      ],
      "metadata": {
        "colab": {
          "base_uri": "https://localhost:8080/"
        },
        "id": "ok0wkGdEl1qG",
        "outputId": "e9a76de7-178d-41d3-e88a-23fcb99488d8"
      },
      "execution_count": null,
      "outputs": [
        {
          "output_type": "stream",
          "name": "stdout",
          "text": [
            "Enter an integer:407\n",
            "[11, 37]\n"
          ]
        }
      ]
    },
    {
      "cell_type": "markdown",
      "source": [
        "# **24. Implement a function to check if a given number is a power of two.**"
      ],
      "metadata": {
        "id": "UNcVDPTfciQJ"
      }
    },
    {
      "cell_type": "code",
      "source": [
        "# Python program to check if given\n",
        "# number is power of 2 or not\n",
        "\n",
        "# Function to check if x is power of 2\n",
        "def isPowerOfTwo (x):\n",
        "\n",
        "\t# First x in the below expression\n",
        "\t# is for the case when x is 0\n",
        "\treturn (x and (not(x & (x - 1))) )\n",
        "\n",
        "# Driver code\n",
        "if(isPowerOfTwo(31)):\n",
        "\tprint('Yes')\n",
        "else:\n",
        "\tprint('No')\n",
        "\n",
        "if(isPowerOfTwo(64)):\n",
        "\tprint('Yes')\n",
        "else:\n",
        "\tprint('No')\n"
      ],
      "metadata": {
        "id": "h_PDydznciXZ",
        "colab": {
          "base_uri": "https://localhost:8080/"
        },
        "outputId": "a4ce6f34-e565-4c37-df8e-e1880614c47f"
      },
      "execution_count": null,
      "outputs": [
        {
          "output_type": "stream",
          "name": "stdout",
          "text": [
            "No\n",
            "Yes\n"
          ]
        }
      ]
    },
    {
      "cell_type": "code",
      "source": [
        "# Python program to check if given\n",
        "# number is power of 2 or not\n",
        "\n",
        "# Function to check if x is power of 2\n",
        "def isPowerOfTwo(n):\n",
        "\tif (n == 0):\n",
        "\t\treturn False\n",
        "\twhile (n != 1):\n",
        "\t\t\tif (n % 2 != 0):\n",
        "\t\t\t\treturn False\n",
        "\t\t\tn = n // 2\n",
        "\n",
        "\treturn True\n",
        "\n",
        "# Driver code\n",
        "if(isPowerOfTwo(31)):\n",
        "\tprint('Yes')\n",
        "else:\n",
        "\tprint('No')\n",
        "if(isPowerOfTwo(64)):\n",
        "\tprint('Yes')\n",
        "else:\n",
        "\tprint('No')\n"
      ],
      "metadata": {
        "colab": {
          "base_uri": "https://localhost:8080/"
        },
        "id": "be9auVscozy5",
        "outputId": "b375effb-72e0-4309-9eb4-1832bcfa9b08"
      },
      "execution_count": null,
      "outputs": [
        {
          "output_type": "stream",
          "name": "stdout",
          "text": [
            "No\n",
            "Yes\n"
          ]
        }
      ]
    },
    {
      "cell_type": "markdown",
      "source": [
        "# **25. Write a Python program to merge two sorted lists into a single sorted list.**"
      ],
      "metadata": {
        "id": "KY55YHSFcieR"
      }
    },
    {
      "cell_type": "code",
      "source": [
        "l1 = [2,3,5,6,8,9]\n",
        "l2 = [1,14,7]\n",
        "l = sorted(l1+l2)\n",
        "#l.append(sorted(l1,l2))\n",
        "l"
      ],
      "metadata": {
        "id": "_TTcBXyTcil5",
        "colab": {
          "base_uri": "https://localhost:8080/"
        },
        "outputId": "52237b7c-8abc-4441-bdc5-4cc04bfe61f5"
      },
      "execution_count": null,
      "outputs": [
        {
          "output_type": "execute_result",
          "data": {
            "text/plain": [
              "[1, 2, 3, 5, 6, 7, 8, 9, 14]"
            ]
          },
          "metadata": {},
          "execution_count": 7
        }
      ]
    },
    {
      "cell_type": "code",
      "source": [
        "# Python3 code to demonstrate #TC:O(nlogn), SC:O(n)\n",
        "# to combine two sorted list\n",
        "# using heapq.merge()\n",
        "from heapq import merge\n",
        "\n",
        "# initializing lists\n",
        "test_list1 = [1, 5, 6, 9, 11]\n",
        "test_list2 = [3, 4, 7, 8, 10]\n",
        "\n",
        "# printing original lists\n",
        "print(\"The original list 1 is : \" + str(test_list1))\n",
        "print(\"The original list 2 is : \" + str(test_list2))\n",
        "\n",
        "# using heapq.merge()\n",
        "# to combine two sorted lists\n",
        "res = list(merge(test_list1, test_list2))\n",
        "\n",
        "# printing result\n",
        "print(\"The combined sorted list is : \" + str(res))\n"
      ],
      "metadata": {
        "id": "xxgRqknlvszH"
      },
      "execution_count": null,
      "outputs": []
    },
    {
      "cell_type": "code",
      "source": [
        "import numpy as np\n",
        "\n",
        "# Input lists\n",
        "test_list1 = [1, 5, 6, 9, 11]\n",
        "test_list2 = [3, 4, 7, 8, 10]\n",
        "\n",
        "# Converting lists to numpy arrays\n",
        "array1 = np.array(test_list1)\n",
        "array2 = np.array(test_list2)\n",
        "\n",
        "# use the concatenate function to combine the arrays\n",
        "combined_array = np.concatenate((array1, array2))\n",
        "\n",
        "# Sorting the combined array\n",
        "sorted_combined_array = np.sort(combined_array)\n",
        "\n",
        "# Converting the sorted array back to a list\n",
        "res = sorted_combined_array.tolist()\n",
        "\n",
        "# Print the result\n",
        "print(\"The combined sorted list is : \" + str(res))\n"
      ],
      "metadata": {
        "colab": {
          "base_uri": "https://localhost:8080/"
        },
        "id": "8OINZB_UwmXn",
        "outputId": "6a0ea969-ef90-4161-85a9-acc65670e2d8"
      },
      "execution_count": null,
      "outputs": [
        {
          "output_type": "stream",
          "name": "stdout",
          "text": [
            "The combined sorted list is : [1, 3, 4, 5, 6, 7, 8, 9, 10, 11]\n"
          ]
        }
      ]
    },
    {
      "cell_type": "markdown",
      "source": [
        "# **26. Implement a function to find the mode of a list of numbers.**"
      ],
      "metadata": {
        "id": "cZcmzovIciux"
      }
    },
    {
      "cell_type": "code",
      "source": [
        "def mode(ls):\n",
        "    # dictionary to keep count of each value\n",
        "    counts = {}\n",
        "    # iterate through the list\n",
        "    for item in ls:\n",
        "        if item in counts:\n",
        "            counts[item] += 1\n",
        "        else:\n",
        "            counts[item] = 1\n",
        "    # get the keys with the max counts\n",
        "    return [key for key in counts.keys() if counts[key] == max(counts.values())]\n",
        "\n",
        "# use the function on a list of values\n",
        "mode([2,2,4,5,6,2,3,5])"
      ],
      "metadata": {
        "id": "P2rfDGdbci1x",
        "colab": {
          "base_uri": "https://localhost:8080/"
        },
        "outputId": "b89a8b66-6794-4fe2-e032-f8b3fe7aad8c"
      },
      "execution_count": null,
      "outputs": [
        {
          "output_type": "execute_result",
          "data": {
            "text/plain": [
              "[2]"
            ]
          },
          "metadata": {},
          "execution_count": 9
        }
      ]
    },
    {
      "cell_type": "code",
      "source": [
        "# Python program to print\n",
        "# mode of elements\n",
        "from collections import Counter\n",
        "\n",
        "# list of elements to calculate mode\n",
        "n_num = [1, 2, 3, 4, 5, 5,2,2]\n",
        "n = len(n_num)\n",
        "\n",
        "data = Counter(n_num)\n",
        "get_mode = dict(data)\n",
        "mode = [k for k, v in get_mode.items() if v == max(list(data.values()))]\n",
        "\n",
        "if len(mode) == n:\n",
        "\tget_mode = \"No mode found\"\n",
        "else:\n",
        "\tget_mode = \"Mode is / are: \" + ', '.join(map(str, mode))\n",
        "\n",
        "print(get_mode)\n"
      ],
      "metadata": {
        "colab": {
          "base_uri": "https://localhost:8080/"
        },
        "id": "dpW4f6eHxuex",
        "outputId": "126f7a52-7b45-498e-a808-78c1429cb9ea"
      },
      "execution_count": null,
      "outputs": [
        {
          "output_type": "stream",
          "name": "stdout",
          "text": [
            "Mode is / are: 2\n"
          ]
        }
      ]
    },
    {
      "cell_type": "markdown",
      "source": [
        "# **27. Write a program to find the greatest common divisor (GCD) of two numbers.**"
      ],
      "metadata": {
        "id": "0zGNNZ7xcjAB"
      }
    },
    {
      "cell_type": "code",
      "source": [
        "# Recursive function to return gcd of a and b\n",
        "def gcd(a, b):\n",
        "\n",
        "\t# Everything divides 0\n",
        "\tif (a == 0):\n",
        "\t\treturn b\n",
        "\tif (b == 0):\n",
        "\t\treturn a\n",
        "\n",
        "\t# base case\n",
        "\tif (a == b):\n",
        "\t\treturn a\n",
        "\n",
        "\t# a is greater\n",
        "\tif (a > b):\n",
        "\t\treturn gcd(a-b, b)\n",
        "\treturn gcd(a, b-a)\n",
        "\n",
        "# Driver program to test above function\n",
        "a = 98\n",
        "b = 56\n",
        "if(gcd(a, b)):\n",
        "\tprint('GCD of', a, 'and', b, 'is', gcd(a, b))\n",
        "else:\n",
        "\tprint('not found')\n"
      ],
      "metadata": {
        "id": "C7InqyGAcjH5",
        "colab": {
          "base_uri": "https://localhost:8080/"
        },
        "outputId": "6b864763-34b0-482b-8dde-9bb8b105bc6d"
      },
      "execution_count": null,
      "outputs": [
        {
          "output_type": "stream",
          "name": "stdout",
          "text": [
            "GCD of 98 and 56 is 14\n"
          ]
        }
      ]
    },
    {
      "cell_type": "code",
      "source": [
        "# Python code to demonstrate the working of gcd()\n",
        "# importing \"math\" for mathematical operations\n",
        "import math\n",
        "\n",
        "# prints 12\n",
        "print(\"The gcd of 60 and 48 is : \", end=\"\")\n",
        "print(math.gcd(60, 48))\n"
      ],
      "metadata": {
        "colab": {
          "base_uri": "https://localhost:8080/"
        },
        "id": "GxefKD5Jy8Xq",
        "outputId": "ad6e75c4-02f9-4c6d-b114-314314112d4d"
      },
      "execution_count": null,
      "outputs": [
        {
          "output_type": "stream",
          "name": "stdout",
          "text": [
            "The gcd of 60 and 48 is : 12\n"
          ]
        }
      ]
    },
    {
      "cell_type": "code",
      "source": [
        "gcd = lambda a, b: a if b == 0 else gcd(b, a % b)\n",
        "\n",
        "a = 60\n",
        "b = 48\n",
        "\n",
        "# Prints 12\n",
        "print(\"The gcd of 60 and 48 is:\", gcd(a, b))\n"
      ],
      "metadata": {
        "colab": {
          "base_uri": "https://localhost:8080/"
        },
        "id": "hE4jR1sGzSP2",
        "outputId": "b8425f70-1458-4140-a3d9-f7a1eb75f98d"
      },
      "execution_count": null,
      "outputs": [
        {
          "output_type": "stream",
          "name": "stdout",
          "text": [
            "The gcd of 60 and 48 is: 12\n"
          ]
        }
      ]
    },
    {
      "cell_type": "markdown",
      "source": [
        "# **28. Implement a function to calculate the square root of a given number.**"
      ],
      "metadata": {
        "id": "sIEj62N-dB3B"
      }
    },
    {
      "cell_type": "code",
      "source": [
        "# Python Program to calculate the square root\n",
        "\n",
        "# Note: change this value for a different result\n",
        "num = 8\n",
        "\n",
        "# To take the input from the user\n",
        "#num = float(input('Enter a number: '))\n",
        "\n",
        "num_sqrt = num ** 0.5\n",
        "print('The square root of %0.3f is %0.3f'%(num ,num_sqrt))\n"
      ],
      "metadata": {
        "id": "zVyGChCRdB_C",
        "colab": {
          "base_uri": "https://localhost:8080/"
        },
        "outputId": "24f64578-cf20-40e8-8618-9fa30dec9675"
      },
      "execution_count": null,
      "outputs": [
        {
          "output_type": "stream",
          "name": "stdout",
          "text": [
            "The square root of 8.000 is 2.828\n"
          ]
        }
      ]
    },
    {
      "cell_type": "code",
      "source": [
        "# Python 3 program to find floor(sqrt(x)\n",
        "\n",
        "# Returns floor of square root of x\n",
        "\n",
        "\n",
        "def floorSqrt(x):\n",
        "\n",
        "\t# Base cases\n",
        "\tif (x == 0 or x == 1):\n",
        "\t\treturn x\n",
        "\n",
        "\t# Do Binary Search for floor(sqrt(x))\n",
        "\tstart = 1\n",
        "\tend = x//2\n",
        "\twhile (start <= end):\n",
        "\t\tmid = (start + end) // 2\n",
        "\n",
        "\t\t# If x is a perfect square\n",
        "\t\tif (mid*mid == x):\n",
        "\t\t\treturn mid\n",
        "\n",
        "\t\t# Since we need floor, we update\n",
        "\t\t# answer when mid*mid is smaller\n",
        "\t\t# than x, and move closer to sqrt(x)\n",
        "\t\tif (mid * mid < x):\n",
        "\t\t\tstart = mid + 1\n",
        "\t\t\tans = mid\n",
        "\n",
        "\t\telse:\n",
        "\n",
        "\t\t\t# If mid*mid is greater than x\n",
        "\t\t\tend = mid-1\n",
        "\n",
        "\treturn ans\n",
        "\n",
        "\n",
        "# driver code\n",
        "x = 11\n",
        "print(floorSqrt(x))\n"
      ],
      "metadata": {
        "id": "AirNEEkD0KmF",
        "outputId": "7a7d49fb-caf2-4e0f-c10b-aaaf7bd07f9c",
        "colab": {
          "base_uri": "https://localhost:8080/"
        }
      },
      "execution_count": null,
      "outputs": [
        {
          "output_type": "stream",
          "name": "stdout",
          "text": [
            "3\n"
          ]
        }
      ]
    },
    {
      "cell_type": "code",
      "source": [
        "import numpy as np\n",
        "\n",
        "# Find the square root of 9\n",
        "sqrt_9 = np.sqrt(9)\n",
        "print(sqrt_9) # Output: 3.0\n",
        "\n",
        "# Find the square root of a list of numbers\n",
        "numbers = [4, 9, 16, 25]\n",
        "sqrt_numbers = np.sqrt(numbers)\n",
        "print(sqrt_numbers) # Output: [2.0 3.0 4.0 5.0]\n"
      ],
      "metadata": {
        "id": "_64QntV20MMe",
        "outputId": "b9360492-d803-4304-8c44-11a2509904df",
        "colab": {
          "base_uri": "https://localhost:8080/"
        }
      },
      "execution_count": null,
      "outputs": [
        {
          "output_type": "stream",
          "name": "stdout",
          "text": [
            "3.0\n",
            "[2. 3. 4. 5.]\n"
          ]
        }
      ]
    },
    {
      "cell_type": "markdown",
      "source": [
        "# **29. Write a Python program to check if a given string is a valid palindrome ignoring non-alphanumeric characters.**"
      ],
      "metadata": {
        "id": "WwzQBz6jdCHq"
      }
    },
    {
      "cell_type": "code",
      "source": [
        "# function to check string is\n",
        "# palindrome or not\n",
        "def isPalindrome(str):\n",
        "\n",
        "\t# Run loop from 0 to len/2\n",
        "\tfor i in range(0, int(len(str)/2)):\n",
        "\t\tif str[i] != str[len(str)-i-1]:\n",
        "\t\t\treturn False\n",
        "\treturn True\n",
        "\n",
        "# main function\n",
        "s = \"malayalam\"\n",
        "ans = isPalindrome(s)\n",
        "\n",
        "if (ans):\n",
        "\tprint(\"Yes\")\n",
        "else:\n",
        "\tprint(\"No\")\n"
      ],
      "metadata": {
        "id": "BYGyuA7sdCQy",
        "colab": {
          "base_uri": "https://localhost:8080/"
        },
        "outputId": "993da081-33df-4bac-a0c5-60bcc1e7ed84"
      },
      "execution_count": null,
      "outputs": [
        {
          "output_type": "stream",
          "name": "stdout",
          "text": [
            "Yes\n"
          ]
        }
      ]
    },
    {
      "cell_type": "code",
      "source": [
        "# Python program to check\n",
        "# if a string is palindrome\n",
        "# or not\n",
        "\n",
        "x = \"malayalam\"\n",
        "\n",
        "w = \"\"\n",
        "for i in x:\n",
        "\tw = i + w\n",
        "\n",
        "if (x == w):\n",
        "\tprint(\"Yes\")\n",
        "else:\n",
        "\tprint(\"No\")\n"
      ],
      "metadata": {
        "colab": {
          "base_uri": "https://localhost:8080/"
        },
        "id": "KVWTH3tilpaV",
        "outputId": "6faf2271-4233-41fd-c946-8efe234cda95"
      },
      "execution_count": null,
      "outputs": [
        {
          "output_type": "stream",
          "name": "stdout",
          "text": [
            "Yes\n"
          ]
        }
      ]
    },
    {
      "cell_type": "code",
      "source": [
        "# function to check string is\n",
        "# palindrome or not\n",
        "def isPalindrome(s):\n",
        "\n",
        "\t# Using predefined function to\n",
        "\t# reverse to string print(s)\n",
        "\trev = ''.join(reversed(s))\n",
        "\n",
        "\t# Checking if both string are\n",
        "\t# equal or not\n",
        "\tif (s == rev):\n",
        "\t\treturn True\n",
        "\treturn False\n",
        "\n",
        "# main function\n",
        "s = \"malayalam\"\n",
        "ans = isPalindrome(s)\n",
        "\n",
        "if (ans):\n",
        "\tprint(\"Yes\")\n",
        "else:\n",
        "\tprint(\"No\")\n"
      ],
      "metadata": {
        "colab": {
          "base_uri": "https://localhost:8080/"
        },
        "id": "YaguQ4XimH4K",
        "outputId": "cd4cb350-0f6d-42e8-864e-010d8fbc5758"
      },
      "execution_count": null,
      "outputs": [
        {
          "output_type": "stream",
          "name": "stdout",
          "text": [
            "Yes\n"
          ]
        }
      ]
    },
    {
      "cell_type": "markdown",
      "source": [
        "# **30. Implement a function to find the minimum element in a rotated sorted list.**"
      ],
      "metadata": {
        "id": "ijhKvkpSdCbK"
      }
    },
    {
      "cell_type": "code",
      "source": [
        "#TC: O(logn), SC : O(1)\n",
        "class Solutions:\n",
        "    def findMin(self, nums: list[int]) -> int:\n",
        "        low=0\n",
        "        high=len(nums)-1\n",
        "        res=nums[0]\n",
        "        while low<=high:\n",
        "            if nums[low]<nums[high]:\n",
        "                res=min(res,nums[low])\n",
        "                break\n",
        "            mid=(low+high)//2\n",
        "            res=min(res,nums[mid])\n",
        "            if nums[mid]>=nums[low]: # to check if mid belongs to the left sorted portion\n",
        "                low=mid+1\n",
        "            else:\n",
        "                high=mid-1\n",
        "        return res\n",
        "\n",
        "nums = [3,4,5,1,2]\n",
        "ans = Solutions()\n",
        "res = ans.findMin(nums)\n",
        "print(res)"
      ],
      "metadata": {
        "id": "fwUvXMBTdCix",
        "colab": {
          "base_uri": "https://localhost:8080/"
        },
        "outputId": "0b892d84-5c37-445c-d7f3-aa1f85210901"
      },
      "execution_count": null,
      "outputs": [
        {
          "output_type": "stream",
          "name": "stdout",
          "text": [
            "1\n"
          ]
        }
      ]
    },
    {
      "cell_type": "markdown",
      "source": [
        "# **31. Write a program to find the sum of all even numbers in a list.**"
      ],
      "metadata": {
        "id": "Qv5S_HDc6DLA"
      }
    },
    {
      "cell_type": "code",
      "source": [
        "l = [2,3,4,10,15,6]\n",
        "sum = 0\n",
        "for i in l:\n",
        "  if i%2 == 0:\n",
        "    sum += i\n",
        "print(sum)\n"
      ],
      "metadata": {
        "colab": {
          "base_uri": "https://localhost:8080/"
        },
        "id": "Dqd4ZoZ86DVh",
        "outputId": "907da64c-b28f-4d8e-c91e-f3437e03a9d8"
      },
      "execution_count": null,
      "outputs": [
        {
          "output_type": "stream",
          "name": "stdout",
          "text": [
            "22\n"
          ]
        }
      ]
    },
    {
      "cell_type": "markdown",
      "source": [
        "# **32. Implement a function to calculate the power of a number using recursion.**"
      ],
      "metadata": {
        "id": "nXJDtfop6DfA"
      }
    },
    {
      "cell_type": "code",
      "source": [
        "def power(a, b):\n",
        "    if b != 0:\n",
        "        return a * power(a, b-1)\n",
        "    else:\n",
        "        return 1\n",
        "\n",
        "\n",
        "a = 2\n",
        "b = 3\n",
        "print(a, \"to the power\", b, \"is\", power(a, b))"
      ],
      "metadata": {
        "colab": {
          "base_uri": "https://localhost:8080/"
        },
        "id": "1uYVoTaI6DoI",
        "outputId": "e8af814e-bc4a-4aef-ba09-b473bb6064a9"
      },
      "execution_count": null,
      "outputs": [
        {
          "output_type": "stream",
          "name": "stdout",
          "text": [
            "2 to the power 3 is 8\n"
          ]
        }
      ]
    },
    {
      "cell_type": "markdown",
      "source": [
        "# **33. Write a Python program to remove duplicates from a list while preserving the order.**"
      ],
      "metadata": {
        "id": "AlczaDT-6D1o"
      }
    },
    {
      "cell_type": "code",
      "source": [
        "#TC: O(n), SC: O(k) - unique ele\n",
        "test_tup = ([4, 7, 8], [1, 2, 3], [4, 7, 8], [9, 10, 11], [1, 2, 3])\n",
        "res = []\n",
        "for i in test_tup:\n",
        "\tif i not in res:\n",
        "\t\tres.append(i)\n",
        "print(\"The unique lists tuple is : \" + str(res))\n"
      ],
      "metadata": {
        "colab": {
          "base_uri": "https://localhost:8080/"
        },
        "id": "LjZojYVQ6D9P",
        "outputId": "e92d119a-8b73-4a16-aa7e-181150db6533"
      },
      "execution_count": null,
      "outputs": [
        {
          "output_type": "stream",
          "name": "stdout",
          "text": [
            "The unique lists tuple is : [[4, 7, 8], [1, 2, 3], [9, 10, 11]]\n"
          ]
        }
      ]
    },
    {
      "cell_type": "code",
      "source": [
        "# Python3 code to demonstrate working of\n",
        "# Remove duplicate lists in tuples(Preserving Order)\n",
        "# Using list comprehension + set()\n",
        "\n",
        "# Initializing tuple\n",
        "test_tup = ([4, 7, 8], [1, 2, 3], [4, 7, 8], [9, 10, 11], [1, 2, 3])\n",
        "\n",
        "# printing original tuple\n",
        "print(\"The original tuple is : \" + str(test_tup))\n",
        "\n",
        "# Remove duplicate lists in tuples(Preserving Order)\n",
        "# Using list comprehension + set()\n",
        "temp = set()\n",
        "res = [ele for ele in test_tup if not(tuple(ele) in temp or temp.add(tuple(ele)))]\n",
        "\n",
        "# printing result\n",
        "print(\"The unique lists tuple is : \" + str(res))\n"
      ],
      "metadata": {
        "colab": {
          "base_uri": "https://localhost:8080/"
        },
        "id": "Eyp0ab_efECi",
        "outputId": "40c410db-3a29-4eb3-b70b-881ea42054fb"
      },
      "execution_count": null,
      "outputs": [
        {
          "output_type": "stream",
          "name": "stdout",
          "text": [
            "The original tuple is : ([4, 7, 8], [1, 2, 3], [4, 7, 8], [9, 10, 11], [1, 2, 3])\n",
            "The unique lists tuple is : [[4, 7, 8], [1, 2, 3], [9, 10, 11]]\n"
          ]
        }
      ]
    },
    {
      "cell_type": "markdown",
      "source": [
        "# **34. Implement a function to find the longest common prefix among a list of strings.**"
      ],
      "metadata": {
        "id": "RSNv9ZZH6EFI"
      }
    },
    {
      "cell_type": "code",
      "source": [
        "class Solution:\n",
        "    def longestCommonPrefix(self, strs):\n",
        "      if not strs:\n",
        "          return \"\"\n",
        "      shortest_str = min(strs,key=len)\n",
        "      for i, char in enumerate(shortest_str):\n",
        "          for other in strs:\n",
        "              if other[i] != char:\n",
        "                  return shortest_str[:i]\n",
        "      return shortest_str\n",
        "\n",
        "strs = ['flower','flow','flight','flash','flame']\n",
        "ans = Solution()\n",
        "res = ans.longestCommonPrefix(strs)\n",
        "print(res)"
      ],
      "metadata": {
        "colab": {
          "base_uri": "https://localhost:8080/"
        },
        "id": "4EkMj5iieERt",
        "outputId": "0095b4d6-c450-4a2c-ba23-e438252e0422"
      },
      "execution_count": null,
      "outputs": [
        {
          "output_type": "stream",
          "name": "stdout",
          "text": [
            "fl\n"
          ]
        }
      ]
    },
    {
      "cell_type": "code",
      "source": [
        "class Solution:\n",
        "    def longestCommonPrefix(self, strs):\n",
        "        if not strs:\n",
        "            return \"\"\n",
        "        min_s = min(strs)\n",
        "        max_s = max(strs)\n",
        "        if not min_s:\n",
        "            return \"\"\n",
        "        for i in range(len(min_s)):\n",
        "            if max_s[i] != min_s[i]:\n",
        "                return max_s[:i]\n",
        "        return min_s[:]\n",
        "\n",
        "strs = ['flower','flow','flight','flash','flame']\n",
        "ans = Solution()\n",
        "res = ans.longestCommonPrefix(strs)\n",
        "print(res)"
      ],
      "metadata": {
        "colab": {
          "base_uri": "https://localhost:8080/"
        },
        "id": "N4PYrgW8eMzF",
        "outputId": "cbd8f8f8-52fc-4a19-b60d-d97c06bc43b2"
      },
      "execution_count": null,
      "outputs": [
        {
          "output_type": "stream",
          "name": "stdout",
          "text": [
            "fl\n"
          ]
        }
      ]
    },
    {
      "cell_type": "markdown",
      "source": [
        "# **35. Write a program to check if a given number is a perfect square.**"
      ],
      "metadata": {
        "id": "UBwGpJB_6ETZ"
      }
    },
    {
      "cell_type": "code",
      "source": [
        "import math\n",
        "\n",
        "# Taking the input from user\n",
        "number = int(input(\"Enter the Number\"))\n",
        "\n",
        "root = math.sqrt(number)\n",
        "if int(root + 0.5) ** 2 == number:\n",
        "    print(number, \"is a perfect square\")\n",
        "else:\n",
        "    print(number, \"is not a perfect square\")"
      ],
      "metadata": {
        "id": "53dVZ0lG6EaR",
        "colab": {
          "base_uri": "https://localhost:8080/"
        },
        "outputId": "57bd0e47-ba6f-406e-fa42-9e085e14ae46"
      },
      "execution_count": null,
      "outputs": [
        {
          "output_type": "stream",
          "name": "stdout",
          "text": [
            "Enter the Number64\n",
            "64 is a perfect square\n"
          ]
        }
      ]
    },
    {
      "cell_type": "code",
      "source": [
        "from math import sqrt\n",
        "def solve(n):\n",
        "   sq_root = int(sqrt(n))\n",
        "   return (sq_root*sq_root) == n\n",
        "n = 36\n",
        "print (solve(n))"
      ],
      "metadata": {
        "colab": {
          "base_uri": "https://localhost:8080/"
        },
        "id": "byGjXuLRix11",
        "outputId": "877567cf-1d75-4da5-a4b0-cb2a99671dd3"
      },
      "execution_count": null,
      "outputs": [
        {
          "output_type": "stream",
          "name": "stdout",
          "text": [
            "True\n"
          ]
        }
      ]
    },
    {
      "cell_type": "markdown",
      "source": [
        "# **36. Implement a function to calculate the product of all elements in a list.**"
      ],
      "metadata": {
        "id": "zkb4h5l16EhE"
      }
    },
    {
      "cell_type": "code",
      "source": [
        "def product(n):\n",
        "    prod = 1\n",
        "    for i in l2:\n",
        "      prod = prod*i\n",
        "    print(prod)\n",
        "\n",
        "n = [1,2,3,4]\n",
        "ans = product(n)\n",
        "ans"
      ],
      "metadata": {
        "id": "yjB9LNGK6EnR",
        "colab": {
          "base_uri": "https://localhost:8080/"
        },
        "outputId": "b2ae032c-8ad3-49a8-fdc2-8159a089cdff"
      },
      "execution_count": null,
      "outputs": [
        {
          "output_type": "stream",
          "name": "stdout",
          "text": [
            "24\n"
          ]
        }
      ]
    },
    {
      "cell_type": "code",
      "source": [
        "import numpy\n",
        "def multiply_numbers(list):\n",
        "   return numpy.prod(list)\n",
        "given_list = [1,2,3,4]\n",
        "print(multiply_numbers(given_list))"
      ],
      "metadata": {
        "colab": {
          "base_uri": "https://localhost:8080/"
        },
        "id": "ioLvIxpOqEra",
        "outputId": "9aba0d74-e986-44cf-8ef5-306b24aae4ba"
      },
      "execution_count": null,
      "outputs": [
        {
          "output_type": "stream",
          "name": "stdout",
          "text": [
            "24\n"
          ]
        }
      ]
    },
    {
      "cell_type": "markdown",
      "source": [
        "# **37. Write a Python program to reverse the order of words in a sentence while preserving the word order.**"
      ],
      "metadata": {
        "id": "L0xK-ztF6Et6"
      }
    },
    {
      "cell_type": "code",
      "source": [
        "def reverse(str):\n",
        "  return \"\".join(reversed(str))\n",
        "\n",
        "str = 'hello world'\n",
        "ans = reverse(str)\n",
        "ans"
      ],
      "metadata": {
        "id": "1_vNZJN86E0I",
        "colab": {
          "base_uri": "https://localhost:8080/",
          "height": 35
        },
        "outputId": "7a67b063-f0ae-43b9-d34d-5a6f0dca0c81"
      },
      "execution_count": null,
      "outputs": [
        {
          "output_type": "execute_result",
          "data": {
            "text/plain": [
              "'dlrow olleh'"
            ],
            "application/vnd.google.colaboratory.intrinsic+json": {
              "type": "string"
            }
          },
          "metadata": {},
          "execution_count": 47
        }
      ]
    },
    {
      "cell_type": "markdown",
      "source": [
        "# **38. Implement a function to find the missing number in a given list of consecutive numbers.**"
      ],
      "metadata": {
        "id": "bY2_li5M6E6z"
      }
    },
    {
      "cell_type": "code",
      "source": [
        "def findMissingNumbers(n):\n",
        "    numbers = set(n)\n",
        "    length = len(n)\n",
        "    output = []\n",
        "    for i in range(1, n[-1]):\n",
        "        if i not in numbers:\n",
        "            output.append(i)\n",
        "    return output\n",
        "\n",
        "\n",
        "n = [1, 2, 3, 5, 6, 7, 8, 9, 10, 11, 13, 14, 16]\n",
        "print(findMissingNumbers(n))"
      ],
      "metadata": {
        "id": "N88LeMDA6FBQ",
        "colab": {
          "base_uri": "https://localhost:8080/"
        },
        "outputId": "a8c29aac-1e63-4387-a28a-af37911eb85e"
      },
      "execution_count": null,
      "outputs": [
        {
          "output_type": "stream",
          "name": "stdout",
          "text": [
            "[4, 12, 15]\n"
          ]
        }
      ]
    },
    {
      "cell_type": "markdown",
      "source": [
        "# **39. Write a program to find the sum of digits of a given number.**"
      ],
      "metadata": {
        "id": "Y8ws4R2Z6GIw"
      }
    },
    {
      "cell_type": "code",
      "source": [
        "def sumDigits(num):\n",
        "  sum = 0\n",
        "  for i in num:\n",
        "    sum = sum + int(i)\n",
        "  return sum\n",
        "num = input(\"Enter Number: \")\n",
        "ans = sumDigits(num)\n",
        "print(ans)"
      ],
      "metadata": {
        "id": "jamtr_m26GR4",
        "colab": {
          "base_uri": "https://localhost:8080/"
        },
        "outputId": "962b65ce-0fc8-43fe-dcfd-9f9c629eb9e6"
      },
      "execution_count": null,
      "outputs": [
        {
          "output_type": "stream",
          "name": "stdout",
          "text": [
            "Enter Number: 123\n",
            "6\n"
          ]
        }
      ]
    },
    {
      "cell_type": "code",
      "source": [
        "def sumDigits(no):\n",
        "    return 0 if no == 0 else int(no % 10) + sumDigits(int(no / 10))\n",
        "\n",
        "n = 12345\n",
        "print(sumDigits(n))"
      ],
      "metadata": {
        "colab": {
          "base_uri": "https://localhost:8080/"
        },
        "id": "y_bB4IjPs2aB",
        "outputId": "cafadd81-e088-490f-c946-eed18f9564ee"
      },
      "execution_count": null,
      "outputs": [
        {
          "output_type": "stream",
          "name": "stdout",
          "text": [
            "15\n"
          ]
        }
      ]
    },
    {
      "cell_type": "markdown",
      "source": [
        "# **40. Implement a function to check if a given string is a valid palindrome considering case sensitivity.**"
      ],
      "metadata": {
        "id": "UCTj0fDlySIB"
      }
    },
    {
      "cell_type": "code",
      "source": [
        "def Palindrome(s):\n",
        "  s = s.casefold() # make it suitable for caseless comparison\n",
        "  reverse = s[::-1]\n",
        "  if list(s) == list(reverse):\n",
        "    print('yes')\n",
        "  else:\n",
        "    print('no')\n",
        "\n",
        "s = 'MalaYalaM'\n",
        "ans = Palindrome(s)\n",
        "ans"
      ],
      "metadata": {
        "colab": {
          "base_uri": "https://localhost:8080/"
        },
        "id": "SQq2yRdUySTx",
        "outputId": "72507aa0-c8c4-447a-9562-596323a0bf34"
      },
      "execution_count": null,
      "outputs": [
        {
          "output_type": "stream",
          "name": "stdout",
          "text": [
            "yes\n"
          ]
        }
      ]
    },
    {
      "cell_type": "markdown",
      "source": [
        "# **41. Write a Python program to find the smallest missing positive integer in a list.**"
      ],
      "metadata": {
        "id": "mDuqz-dNySbx"
      }
    },
    {
      "cell_type": "code",
      "source": [
        "def findFirstMissing(array, start, end):\n",
        "\n",
        "\tif (start > end):\n",
        "\t\treturn end + 1\n",
        "\n",
        "\tif (start != array[start]):\n",
        "\t\treturn start;\n",
        "\n",
        "\tmid = int((start + end) / 2)\n",
        "\n",
        "\t# Left half has all elements\n",
        "\t# from 0 to mid\n",
        "\tif (array[mid] == mid):\n",
        "\t\treturn findFirstMissing(array,\n",
        "\t\t\t\t\t\tmid+1, end)\n",
        "\n",
        "\treturn findFirstMissing(array,\n",
        "\t\t\t\t\t\tstart, mid)\n",
        "\n",
        "\n",
        "\n",
        "arr = [0, 1, 3, 4, 5, 6, 7, 10]\n",
        "n = len(arr)\n",
        "print(\"Smallest missing element is\",\n",
        "\tfindFirstMissing(arr, 0, n-1))\n",
        "\n"
      ],
      "metadata": {
        "colab": {
          "base_uri": "https://localhost:8080/"
        },
        "id": "FiyCngJpySkJ",
        "outputId": "6179cd3f-fcb5-4584-acf5-660900066e63"
      },
      "execution_count": null,
      "outputs": [
        {
          "output_type": "stream",
          "name": "stdout",
          "text": [
            "Smallest missing element is 2\n"
          ]
        }
      ]
    },
    {
      "cell_type": "markdown",
      "source": [
        "# **42. Implement a function to find the longest palindrome substring in a given string.**"
      ],
      "metadata": {
        "id": "bU3PG3OQySsR"
      }
    },
    {
      "cell_type": "code",
      "source": [
        "#TC: O(n^2), SC: O(1)\n",
        "class Solutions:\n",
        "    def longestPalindrome(self, s: str)-> str:\n",
        "      n = len(s)\n",
        "      def LP(l,r):\n",
        "          while r<n and l >= 0:\n",
        "              if s[r] != s[l]: break\n",
        "              l -=1\n",
        "              r +=1\n",
        "          return (l+1,r)\n",
        "\n",
        "      start, end =0,0\n",
        "\n",
        "      for i in range(n):\n",
        "          l,r = LP(i,i) #odd length\n",
        "          if r-l > end-start:\n",
        "            start = l\n",
        "            end = r\n",
        "          l,r = LP(i,i+1) #even length\n",
        "          if r-l > end-start:\n",
        "            start = l\n",
        "            end = r\n",
        "      return s[start:end]\n",
        "\n",
        "#s = \"babad\"\n",
        "s = str(input(\"Enter the string\"))\n",
        "ans = Solutions()\n",
        "res = ans.longestPalindrome(s)\n",
        "print(res)\n"
      ],
      "metadata": {
        "id": "zWdUVHanySy8",
        "colab": {
          "base_uri": "https://localhost:8080/"
        },
        "outputId": "6ba224c4-140a-4865-d81a-cbb8546f3453"
      },
      "execution_count": null,
      "outputs": [
        {
          "output_type": "stream",
          "name": "stdout",
          "text": [
            "Enter the string cbbd\n",
            "bb\n"
          ]
        }
      ]
    },
    {
      "cell_type": "markdown",
      "source": [
        "# **43. Write a program to find the number of occurrences of a given element in a list.**"
      ],
      "metadata": {
        "id": "dTppf-HDyS6x"
      }
    },
    {
      "cell_type": "code",
      "source": [
        "l = [1,2,3,2,5,2,2,9]\n",
        "l.count(2)"
      ],
      "metadata": {
        "colab": {
          "base_uri": "https://localhost:8080/"
        },
        "id": "ty7fVy-oyTCi",
        "outputId": "2f9f1876-851b-4f53-cf49-5f354abbc62a"
      },
      "execution_count": null,
      "outputs": [
        {
          "output_type": "execute_result",
          "data": {
            "text/plain": [
              "4"
            ]
          },
          "metadata": {},
          "execution_count": 94
        }
      ]
    },
    {
      "cell_type": "code",
      "source": [
        "def countX(lst, x):\n",
        "\tcount = 0\n",
        "\tfor ele in lst:\n",
        "\t\tif (ele == x):\n",
        "\t\t\tcount = count + 1\n",
        "\treturn count\n",
        "\n",
        "\n",
        "\n",
        "lst = [8, 6, 8, 10, 8, 20, 10, 8, 8]\n",
        "x = 8\n",
        "print('{} has occurred {} times'.format(x,\n",
        "\t\t\t\t\t\t\t\t\t\tcountX(lst, x)))\n"
      ],
      "metadata": {
        "colab": {
          "base_uri": "https://localhost:8080/"
        },
        "id": "nDqPhyK6SO8z",
        "outputId": "6ea1b570-bbb9-43bd-f902-52c69c644852"
      },
      "execution_count": 32,
      "outputs": [
        {
          "output_type": "stream",
          "name": "stdout",
          "text": [
            "8 has occurred 5 times\n"
          ]
        }
      ]
    },
    {
      "cell_type": "code",
      "source": [
        "from collections import Counter\n",
        "\n",
        "# declaring the list\n",
        "l = [1, 1, 2, 2, 3, 3, 4, 4, 5, 5]\n",
        "\n",
        "# driver program\n",
        "x = 3\n",
        "d = Counter(l)\n",
        "print('{} has occurred {} times'.format(x, d[x]))\n"
      ],
      "metadata": {
        "colab": {
          "base_uri": "https://localhost:8080/"
        },
        "id": "22KrhYwCSXxR",
        "outputId": "b26815fc-82a7-497b-ace2-2a135a550285"
      },
      "execution_count": 33,
      "outputs": [
        {
          "output_type": "stream",
          "name": "stdout",
          "text": [
            "3 has occurred 2 times\n"
          ]
        }
      ]
    },
    {
      "cell_type": "code",
      "source": [
        "lis = ['a', 'd', 'd', 'c', 'a', 'b', 'b', 'a', 'c', 'd', 'e']\n",
        "occurrence = {item: lis.count(item) for item in lis}\n",
        "print(occurrence.get('e'))"
      ],
      "metadata": {
        "colab": {
          "base_uri": "https://localhost:8080/"
        },
        "id": "CPVYi72rSc9q",
        "outputId": "1f2a4852-0cf0-4519-ae5a-00e77291915f"
      },
      "execution_count": 34,
      "outputs": [
        {
          "output_type": "stream",
          "name": "stdout",
          "text": [
            "1\n"
          ]
        }
      ]
    },
    {
      "cell_type": "markdown",
      "source": [
        "# **44. Implement a function to check if a given number is a perfect number.**"
      ],
      "metadata": {
        "id": "LtwAOx1TyTKC"
      }
    },
    {
      "cell_type": "code",
      "source": [
        "num=int(input(\"Enter the number: \"))\n",
        "sum_div=0\n",
        "for i in range(1,num):\n",
        "    if (num%i==0):\n",
        "        sum_div=sum_div+i\n",
        "if(sum_div==num):\n",
        "    print(\"The entered number is a perfect number\")\n",
        "else:\n",
        "    print(\"The entered number is not a perfect number\")"
      ],
      "metadata": {
        "colab": {
          "base_uri": "https://localhost:8080/"
        },
        "id": "eOdOuYmxyTSh",
        "outputId": "84b8bfd0-c4c9-4b33-d483-d4d2259b256e"
      },
      "execution_count": null,
      "outputs": [
        {
          "output_type": "stream",
          "name": "stdout",
          "text": [
            "Enter the number: 6\n",
            "The entered number is a perfect number\n"
          ]
        }
      ]
    },
    {
      "cell_type": "code",
      "source": [
        "def num_perfect(num):\n",
        "    sum_n = 0\n",
        "    for i in range(1, num):\n",
        "        if num % i == 0:\n",
        "            sum_n=sum_n+i\n",
        "    return sum_n == num\n",
        "print(num_perfect(25))"
      ],
      "metadata": {
        "colab": {
          "base_uri": "https://localhost:8080/"
        },
        "id": "WM5ytM2JLs84",
        "outputId": "141261d9-b131-4df8-e8bb-638aa603c37b"
      },
      "execution_count": null,
      "outputs": [
        {
          "output_type": "stream",
          "name": "stdout",
          "text": [
            "False\n"
          ]
        }
      ]
    },
    {
      "cell_type": "markdown",
      "source": [
        "# **45. Write a Python program to remove all duplicates from a string.**"
      ],
      "metadata": {
        "id": "DEDHrklxyTby"
      }
    },
    {
      "cell_type": "code",
      "source": [
        "s= 'issac'\n",
        "new = ''\n",
        "for i in s:\n",
        "  if i not in new:\n",
        "    new += i\n",
        "print(new)"
      ],
      "metadata": {
        "colab": {
          "base_uri": "https://localhost:8080/"
        },
        "id": "EkF_oPc9yTjS",
        "outputId": "5f9dc87b-efc0-458d-d7d6-d5ea1e8b92fa"
      },
      "execution_count": null,
      "outputs": [
        {
          "output_type": "stream",
          "name": "stdout",
          "text": [
            "isac\n"
          ]
        }
      ]
    },
    {
      "cell_type": "code",
      "source": [
        "k=\"issac raja sekar\" #TC-O(n), SC-O(n)\n",
        "k2=[]\n",
        "for ele in k:\n",
        "\tif ele not in k2:\n",
        "\t\tk2.append(ele)\n",
        "for i in range(0,len(k2)):\n",
        "\tprint(k2[i],end=\"\")\n"
      ],
      "metadata": {
        "colab": {
          "base_uri": "https://localhost:8080/"
        },
        "id": "9MG9C88NDn9g",
        "outputId": "cbc71516-cdd7-4e34-a2b0-6de1bc3486ff"
      },
      "execution_count": null,
      "outputs": [
        {
          "output_type": "stream",
          "name": "stdout",
          "text": [
            "isac rjek"
          ]
        }
      ]
    },
    {
      "cell_type": "code",
      "source": [
        "import operator as op #O(n)-> TC, O(n)-> SC\n",
        "string=\"issac raja sekar\"\n",
        "k2=[]\n",
        "for ele in string:\n",
        "\tif op.countOf(k2,ele)==0 :\n",
        "\t\tk2.append(ele)\n",
        "for i in range(0,len(k2)):\n",
        "\tprint(k2[i],end=\"\")"
      ],
      "metadata": {
        "colab": {
          "base_uri": "https://localhost:8080/"
        },
        "id": "brQZsBlFCovj",
        "outputId": "8eb67a4d-aff5-4353-85ea-1bd65fd4a24d"
      },
      "execution_count": null,
      "outputs": [
        {
          "output_type": "stream",
          "name": "stdout",
          "text": [
            "isac rjek"
          ]
        }
      ]
    },
    {
      "cell_type": "code",
      "source": [
        "def removeDuplicate(str, n): # using BST - TC O(nlogn), SC: O(n)\n",
        "\ts = set()\n",
        "\n",
        "\t# Create a set using String characters\n",
        "\tfor i in str:\n",
        "\t\ts.add(i)\n",
        "\n",
        "\t# Print content of the set\n",
        "\tst = \"\"\n",
        "\tfor i in s:\n",
        "\t\tst = st+i\n",
        "\treturn st\n",
        "\n",
        "\n",
        "# Driver code\n",
        "str = \"issac raja sekar\"\n",
        "n = len(str)\n",
        "print(removeDuplicate(list(str), n))\n"
      ],
      "metadata": {
        "colab": {
          "base_uri": "https://localhost:8080/"
        },
        "id": "XdP-D6eGDLje",
        "outputId": "f175f0b5-cb0e-44ee-ddd3-f9a7a9d143e3"
      },
      "execution_count": null,
      "outputs": [
        {
          "output_type": "stream",
          "name": "stdout",
          "text": [
            "aes ircjk\n"
          ]
        }
      ]
    },
    {
      "cell_type": "markdown",
      "source": [
        "# **46. Implement a function to find the first missing positive**"
      ],
      "metadata": {
        "id": "aD7XOgDVyTrR"
      }
    },
    {
      "cell_type": "code",
      "source": [
        "class Solutions:   # 3n -> TC: O(n) , SC: O(1)\n",
        "  def firstmissingPositive(self, A: list[int]) -> int:\n",
        "    for i in range(len(A)):\n",
        "      if A[i] < 0:\n",
        "        A[i] = 0\n",
        "\n",
        "    for i in range(len(A)):\n",
        "        val = abs(A[i])\n",
        "        if 1 <= val <= len(A):\n",
        "          if A[val-1] > 0:\n",
        "            A[val-1] *= -1\n",
        "          elif A[val-1] == 0:\n",
        "            A[val-1] = -1 * (len(A)+1)\n",
        "\n",
        "    for i in range(1,len(A)+1):\n",
        "      if A[i-1] >= 0:\n",
        "        return i\n",
        "    return len(A)+1\n",
        "\n",
        "A = [3,4,-1,1]\n",
        "ans = Solutions()\n",
        "print(ans.firstmissingPositive(A))\n",
        "\n"
      ],
      "metadata": {
        "colab": {
          "base_uri": "https://localhost:8080/"
        },
        "id": "z3NZbQRHJ15e",
        "outputId": "d22db571-36e5-419f-82ec-4e42b5482fbb"
      },
      "execution_count": 12,
      "outputs": [
        {
          "output_type": "stream",
          "name": "stdout",
          "text": [
            "2\n"
          ]
        }
      ]
    }
  ]
}